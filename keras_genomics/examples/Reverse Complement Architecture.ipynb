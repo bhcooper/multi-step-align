{
 "cells": [
  {
   "cell_type": "code",
   "execution_count": 1,
   "metadata": {
    "collapsed": false
   },
   "outputs": [
    {
     "name": "stderr",
     "output_type": "stream",
     "text": [
      "/Users/avantishrikumar/anaconda/lib/python2.7/site-packages/h5py/__init__.py:36: FutureWarning: Conversion of the second argument of issubdtype from `float` to `np.floating` is deprecated. In future, it will be treated as `np.float64 == np.dtype(float).type`.\n",
      "  from ._conv import register_converters as _register_converters\n",
      "Using TensorFlow backend.\n"
     ]
    },
    {
     "name": "stdout",
     "output_type": "stream",
     "text": [
      "Couldn't import dot_parser, loading of dot files will not be possible.\n",
      "2.1.6\n",
      "2.0.0\n"
     ]
    }
   ],
   "source": [
    "import keras\n",
    "print(keras.__version__)\n",
    "import keras_genomics\n",
    "print(keras_genomics.__version__)"
   ]
  },
  {
   "cell_type": "code",
   "execution_count": 7,
   "metadata": {
    "collapsed": false
   },
   "outputs": [
    {
     "name": "stderr",
     "output_type": "stream",
     "text": [
      "/Users/avantishrikumar/anaconda/lib/python2.7/site-packages/ipykernel/__main__.py:18: UserWarning: Update your `MaxPooling1D` call to the Keras 2 API: `MaxPooling1D(padding=\"same\", strides=20, pool_size=20)`\n"
     ]
    }
   ],
   "source": [
    "\n",
    "kernel_size=11\n",
    "filters=30\n",
    "input_length=200\n",
    "\n",
    "model = keras.models.Sequential()\n",
    "model.add(keras_genomics.layers.RevCompConv1D(\n",
    "            filters=filters, kernel_size=kernel_size,\n",
    "            input_shape=(input_length,4), activation=\"relu\",\n",
    "            padding=\"same\"))\n",
    "model.add(keras_genomics.layers.normalization.RevCompConv1DBatchNorm())\n",
    "model.add(keras_genomics.layers.RevCompConv1D(\n",
    "            filters=filters, kernel_size=kernel_size,\n",
    "            activation=\"relu\",\n",
    "            padding=\"same\"))\n",
    "model.add(keras_genomics.layers.normalization.RevCompConv1DBatchNorm())\n",
    "model.add(keras.layers.pooling.MaxPooling1D(pool_size=20,stride=20,\n",
    "                                            padding=\"same\"))\n",
    "model.add(keras_genomics.layers.core.DenseAfterRevcompConv1D(\n",
    "            units=10, activation=\"relu\"))\n",
    "model.add(keras_genomics.layers.core.Dense(\n",
    "            units=1))\n",
    "\n"
   ]
  },
  {
   "cell_type": "code",
   "execution_count": 12,
   "metadata": {
    "collapsed": false
   },
   "outputs": [
    {
     "data": {
      "image/png": "[encoded data removed]",
      "text/plain": [
       "<Figure size 600x400 with 1 Axes>"
      ]
     },
     "metadata": {},
     "output_type": "display_data"
    },
    {
     "name": "stdout",
     "output_type": "stream",
     "text": [
      "[(-0.7706965, -0.7706949), (-0.8645781, -0.8645775), (-0.22654659, -0.22654873), (-0.011404306, -0.011404663), (0.23331106, 0.23331285), (-0.34347564, -0.34347516), (0.5234921, 0.523491), (-0.28686386, -0.2868638), (-0.0024428964, -0.0024437904), (0.63502157, 0.6350211)]\n"
     ]
    }
   ],
   "source": [
    "%matplotlib inline\n",
    "from matplotlib import pyplot as plt\n",
    "import numpy as np\n",
    "\n",
    "random_input = np.random.random((10, input_length, 4))\n",
    "fwd_preds = model.predict(random_input)\n",
    "rev_preds = model.predict(random_input[:,::-1,::-1])\n",
    "plt.plot(fwd_preds, rev_preds)\n",
    "plt.show()\n",
    "\n",
    "assert np.max(np.abs(fwd_preds-rev_preds)) < 1e-5\n",
    "\n",
    "print(zip(fwd_preds.squeeze(), rev_preds.squeeze()))"
   ]
  },
  {
   "cell_type": "code",
   "execution_count": null,
   "metadata": {
    "collapsed": true
   },
   "outputs": [],
   "source": []
  }
 ],
 "metadata": {
  "kernelspec": {
   "display_name": "Python 2",
   "language": "python",
   "name": "python2"
  },
  "language_info": {
   "codemirror_mode": {
    "name": "ipython",
    "version": 2
   },
   "file_extension": ".py",
   "mimetype": "text/x-python",
   "name": "python",
   "nbconvert_exporter": "python",
   "pygments_lexer": "ipython2",
   "version": "2.7.12"
  }
 },
 "nbformat": 4,
 "nbformat_minor": 0
}
